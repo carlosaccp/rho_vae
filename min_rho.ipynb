{
 "cells": [
  {
   "cell_type": "code",
   "execution_count": null,
   "metadata": {},
   "outputs": [],
   "source": []
  },
  {
   "attachments": {},
   "cell_type": "markdown",
   "metadata": {},
   "source": [
    "$$\n",
    "\\rho(\\lambda,\\,\\theta) = \\mathbb{E}_{q_\\theta}\\left[\\frac{\\pi^2_{\\lambda}(X)}{q^2_\\theta(X)}\\right] = \\int_X \\frac{\\pi^2_\\lambda(x)}{q_\\theta(x)}dx\n",
    "$$\n",
    "\n",
    "Recall:\n",
    "\n",
    "$$\n",
    "\\nabla_\\theta\\rho(\\lambda,\\,\\theta) = \\int_X \\pi^2_\\lambda(x)\\nabla_\\theta\\frac{1}{q_\\theta(x)}dx = -\\int_X \\pi^2_\\lambda(x)\\frac{\\nabla_\\theta q_\\theta(x)}{q^2_\\theta(x)}dx = \\int_X \\pi^2_\\lambda(x)\\frac{\\nabla_\\theta \\log q_\\theta(x)}{q^2_\\theta(x)}q_\\theta(x)dx = \\mathbb{E}_{q_\\theta}\\left[\\frac{\\pi^2_{\\lambda}(X)}{q^2_\\theta(X)}\\nabla_\\theta\\log q_\\theta(X) \\right]\n",
    "$$\n",
    "\n",
    "Also, for $\\lambda$:\n",
    "\n",
    "$$\n",
    "\\nabla_\\lambda\\rho(\\lambda,\\,\\theta) = \\int_X \\nabla_\\lambda \\frac{\\pi^2_\\lambda(x)}{q_\\theta(x)}dx = 2\\int_X \\frac{\\pi^2_\\lambda(x)}{q_\\theta(x)}\\frac{\\nabla_\\lambda\\pi_\\lambda(x)}{\\pi_\\lambda(x)}dx = 2\\mathbb{E}_{q_\\theta}\\left[\\frac{\\pi^2_{\\lambda}(X)}{q^2_\\theta(X)}\\nabla_\\lambda \\log \\pi_\\lambda (X)\\right]\n",
    "$$"
   ]
  },
  {
   "attachments": {},
   "cell_type": "markdown",
   "metadata": {},
   "source": [
    "This suggests exponential family?"
   ]
  }
 ],
 "metadata": {
  "language_info": {
   "name": "python"
  },
  "orig_nbformat": 4
 },
 "nbformat": 4,
 "nbformat_minor": 2
}
